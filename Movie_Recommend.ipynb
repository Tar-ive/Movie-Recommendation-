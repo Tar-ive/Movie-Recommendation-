{
  "nbformat": 4,
  "nbformat_minor": 0,
  "metadata": {
    "colab": {
      "provenance": [],
      "authorship_tag": "ABX9TyPzBo5HynOwb1PGliGfRAgi",
      "include_colab_link": true
    },
    "kernelspec": {
      "name": "python3",
      "display_name": "Python 3"
    },
    "language_info": {
      "name": "python"
    }
  },
  "cells": [
    {
      "cell_type": "markdown",
      "metadata": {
        "id": "view-in-github",
        "colab_type": "text"
      },
      "source": [
        "<a href=\"https://colab.research.google.com/github/Tar-ive/Movie-Recommendation-/blob/main/Movie_Recommend.ipynb\" target=\"_parent\"><img src=\"https://colab.research.google.com/assets/colab-badge.svg\" alt=\"Open In Colab\"/></a>"
      ]
    },
    {
      "cell_type": "code",
      "execution_count": 1,
      "metadata": {
        "id": "ZEHKWyzOD5zX"
      },
      "outputs": [],
      "source": [
        "import pandas as pd\n",
        "import numpy as np\n",
        "import matplotlib.pyplot as plt\n",
        "import seaborn as sns\n"
      ]
    },
    {
      "cell_type": "code",
      "source": [
        "movies_df = pd.read_csv('movies.csv')\n",
        "ratings_df = pd.read_csv('ratings.csv')\n"
      ],
      "metadata": {
        "id": "xc2mJ0XLEZrW"
      },
      "execution_count": 3,
      "outputs": []
    },
    {
      "cell_type": "code",
      "source": [
        "movies_df.head()\n"
      ],
      "metadata": {
        "colab": {
          "base_uri": "https://localhost:8080/",
          "height": 206
        },
        "id": "Uu3HWicXEwh_",
        "outputId": "b475bb4b-eb6e-4c4d-8fe3-d233aaa1fe0d"
      },
      "execution_count": 4,
      "outputs": [
        {
          "output_type": "execute_result",
          "data": {
            "text/plain": [
              "   movieId                               title  \\\n",
              "0        1                    Toy Story (1995)   \n",
              "1        2                      Jumanji (1995)   \n",
              "2        3             Grumpier Old Men (1995)   \n",
              "3        4            Waiting to Exhale (1995)   \n",
              "4        5  Father of the Bride Part II (1995)   \n",
              "\n",
              "                                        genres  \n",
              "0  Adventure|Animation|Children|Comedy|Fantasy  \n",
              "1                   Adventure|Children|Fantasy  \n",
              "2                               Comedy|Romance  \n",
              "3                         Comedy|Drama|Romance  \n",
              "4                                       Comedy  "
            ],
            "text/html": [
              "\n",
              "  <div id=\"df-e72b5308-55b6-480a-acd8-0426be208e80\">\n",
              "    <div class=\"colab-df-container\">\n",
              "      <div>\n",
              "<style scoped>\n",
              "    .dataframe tbody tr th:only-of-type {\n",
              "        vertical-align: middle;\n",
              "    }\n",
              "\n",
              "    .dataframe tbody tr th {\n",
              "        vertical-align: top;\n",
              "    }\n",
              "\n",
              "    .dataframe thead th {\n",
              "        text-align: right;\n",
              "    }\n",
              "</style>\n",
              "<table border=\"1\" class=\"dataframe\">\n",
              "  <thead>\n",
              "    <tr style=\"text-align: right;\">\n",
              "      <th></th>\n",
              "      <th>movieId</th>\n",
              "      <th>title</th>\n",
              "      <th>genres</th>\n",
              "    </tr>\n",
              "  </thead>\n",
              "  <tbody>\n",
              "    <tr>\n",
              "      <th>0</th>\n",
              "      <td>1</td>\n",
              "      <td>Toy Story (1995)</td>\n",
              "      <td>Adventure|Animation|Children|Comedy|Fantasy</td>\n",
              "    </tr>\n",
              "    <tr>\n",
              "      <th>1</th>\n",
              "      <td>2</td>\n",
              "      <td>Jumanji (1995)</td>\n",
              "      <td>Adventure|Children|Fantasy</td>\n",
              "    </tr>\n",
              "    <tr>\n",
              "      <th>2</th>\n",
              "      <td>3</td>\n",
              "      <td>Grumpier Old Men (1995)</td>\n",
              "      <td>Comedy|Romance</td>\n",
              "    </tr>\n",
              "    <tr>\n",
              "      <th>3</th>\n",
              "      <td>4</td>\n",
              "      <td>Waiting to Exhale (1995)</td>\n",
              "      <td>Comedy|Drama|Romance</td>\n",
              "    </tr>\n",
              "    <tr>\n",
              "      <th>4</th>\n",
              "      <td>5</td>\n",
              "      <td>Father of the Bride Part II (1995)</td>\n",
              "      <td>Comedy</td>\n",
              "    </tr>\n",
              "  </tbody>\n",
              "</table>\n",
              "</div>\n",
              "      <button class=\"colab-df-convert\" onclick=\"convertToInteractive('df-e72b5308-55b6-480a-acd8-0426be208e80')\"\n",
              "              title=\"Convert this dataframe to an interactive table.\"\n",
              "              style=\"display:none;\">\n",
              "        \n",
              "  <svg xmlns=\"http://www.w3.org/2000/svg\" height=\"24px\"viewBox=\"0 0 24 24\"\n",
              "       width=\"24px\">\n",
              "    <path d=\"M0 0h24v24H0V0z\" fill=\"none\"/>\n",
              "    <path d=\"M18.56 5.44l.94 2.06.94-2.06 2.06-.94-2.06-.94-.94-2.06-.94 2.06-2.06.94zm-11 1L8.5 8.5l.94-2.06 2.06-.94-2.06-.94L8.5 2.5l-.94 2.06-2.06.94zm10 10l.94 2.06.94-2.06 2.06-.94-2.06-.94-.94-2.06-.94 2.06-2.06.94z\"/><path d=\"M17.41 7.96l-1.37-1.37c-.4-.4-.92-.59-1.43-.59-.52 0-1.04.2-1.43.59L10.3 9.45l-7.72 7.72c-.78.78-.78 2.05 0 2.83L4 21.41c.39.39.9.59 1.41.59.51 0 1.02-.2 1.41-.59l7.78-7.78 2.81-2.81c.8-.78.8-2.07 0-2.86zM5.41 20L4 18.59l7.72-7.72 1.47 1.35L5.41 20z\"/>\n",
              "  </svg>\n",
              "      </button>\n",
              "      \n",
              "  <style>\n",
              "    .colab-df-container {\n",
              "      display:flex;\n",
              "      flex-wrap:wrap;\n",
              "      gap: 12px;\n",
              "    }\n",
              "\n",
              "    .colab-df-convert {\n",
              "      background-color: #E8F0FE;\n",
              "      border: none;\n",
              "      border-radius: 50%;\n",
              "      cursor: pointer;\n",
              "      display: none;\n",
              "      fill: #1967D2;\n",
              "      height: 32px;\n",
              "      padding: 0 0 0 0;\n",
              "      width: 32px;\n",
              "    }\n",
              "\n",
              "    .colab-df-convert:hover {\n",
              "      background-color: #E2EBFA;\n",
              "      box-shadow: 0px 1px 2px rgba(60, 64, 67, 0.3), 0px 1px 3px 1px rgba(60, 64, 67, 0.15);\n",
              "      fill: #174EA6;\n",
              "    }\n",
              "\n",
              "    [theme=dark] .colab-df-convert {\n",
              "      background-color: #3B4455;\n",
              "      fill: #D2E3FC;\n",
              "    }\n",
              "\n",
              "    [theme=dark] .colab-df-convert:hover {\n",
              "      background-color: #434B5C;\n",
              "      box-shadow: 0px 1px 3px 1px rgba(0, 0, 0, 0.15);\n",
              "      filter: drop-shadow(0px 1px 2px rgba(0, 0, 0, 0.3));\n",
              "      fill: #FFFFFF;\n",
              "    }\n",
              "  </style>\n",
              "\n",
              "      <script>\n",
              "        const buttonEl =\n",
              "          document.querySelector('#df-e72b5308-55b6-480a-acd8-0426be208e80 button.colab-df-convert');\n",
              "        buttonEl.style.display =\n",
              "          google.colab.kernel.accessAllowed ? 'block' : 'none';\n",
              "\n",
              "        async function convertToInteractive(key) {\n",
              "          const element = document.querySelector('#df-e72b5308-55b6-480a-acd8-0426be208e80');\n",
              "          const dataTable =\n",
              "            await google.colab.kernel.invokeFunction('convertToInteractive',\n",
              "                                                     [key], {});\n",
              "          if (!dataTable) return;\n",
              "\n",
              "          const docLinkHtml = 'Like what you see? Visit the ' +\n",
              "            '<a target=\"_blank\" href=https://colab.research.google.com/notebooks/data_table.ipynb>data table notebook</a>'\n",
              "            + ' to learn more about interactive tables.';\n",
              "          element.innerHTML = '';\n",
              "          dataTable['output_type'] = 'display_data';\n",
              "          await google.colab.output.renderOutput(dataTable, element);\n",
              "          const docLink = document.createElement('div');\n",
              "          docLink.innerHTML = docLinkHtml;\n",
              "          element.appendChild(docLink);\n",
              "        }\n",
              "      </script>\n",
              "    </div>\n",
              "  </div>\n",
              "  "
            ]
          },
          "metadata": {},
          "execution_count": 4
        }
      ]
    },
    {
      "cell_type": "code",
      "source": [
        "ratings_df.head()"
      ],
      "metadata": {
        "colab": {
          "base_uri": "https://localhost:8080/",
          "height": 206
        },
        "id": "J_36S59sE0dH",
        "outputId": "a0aef07b-4cd8-4e6e-dbbc-af6ac3e2642c"
      },
      "execution_count": 6,
      "outputs": [
        {
          "output_type": "execute_result",
          "data": {
            "text/plain": [
              "   userId  movieId  rating    timestamp\n",
              "0       1        1     4.0  964982703.0\n",
              "1       1        3     4.0  964981247.0\n",
              "2       1        6     4.0  964982224.0\n",
              "3       1       47     5.0  964983815.0\n",
              "4       1       50     5.0  964982931.0"
            ],
            "text/html": [
              "\n",
              "  <div id=\"df-89d517fd-ac49-45c3-8210-888122f10b9f\">\n",
              "    <div class=\"colab-df-container\">\n",
              "      <div>\n",
              "<style scoped>\n",
              "    .dataframe tbody tr th:only-of-type {\n",
              "        vertical-align: middle;\n",
              "    }\n",
              "\n",
              "    .dataframe tbody tr th {\n",
              "        vertical-align: top;\n",
              "    }\n",
              "\n",
              "    .dataframe thead th {\n",
              "        text-align: right;\n",
              "    }\n",
              "</style>\n",
              "<table border=\"1\" class=\"dataframe\">\n",
              "  <thead>\n",
              "    <tr style=\"text-align: right;\">\n",
              "      <th></th>\n",
              "      <th>userId</th>\n",
              "      <th>movieId</th>\n",
              "      <th>rating</th>\n",
              "      <th>timestamp</th>\n",
              "    </tr>\n",
              "  </thead>\n",
              "  <tbody>\n",
              "    <tr>\n",
              "      <th>0</th>\n",
              "      <td>1</td>\n",
              "      <td>1</td>\n",
              "      <td>4.0</td>\n",
              "      <td>964982703.0</td>\n",
              "    </tr>\n",
              "    <tr>\n",
              "      <th>1</th>\n",
              "      <td>1</td>\n",
              "      <td>3</td>\n",
              "      <td>4.0</td>\n",
              "      <td>964981247.0</td>\n",
              "    </tr>\n",
              "    <tr>\n",
              "      <th>2</th>\n",
              "      <td>1</td>\n",
              "      <td>6</td>\n",
              "      <td>4.0</td>\n",
              "      <td>964982224.0</td>\n",
              "    </tr>\n",
              "    <tr>\n",
              "      <th>3</th>\n",
              "      <td>1</td>\n",
              "      <td>47</td>\n",
              "      <td>5.0</td>\n",
              "      <td>964983815.0</td>\n",
              "    </tr>\n",
              "    <tr>\n",
              "      <th>4</th>\n",
              "      <td>1</td>\n",
              "      <td>50</td>\n",
              "      <td>5.0</td>\n",
              "      <td>964982931.0</td>\n",
              "    </tr>\n",
              "  </tbody>\n",
              "</table>\n",
              "</div>\n",
              "      <button class=\"colab-df-convert\" onclick=\"convertToInteractive('df-89d517fd-ac49-45c3-8210-888122f10b9f')\"\n",
              "              title=\"Convert this dataframe to an interactive table.\"\n",
              "              style=\"display:none;\">\n",
              "        \n",
              "  <svg xmlns=\"http://www.w3.org/2000/svg\" height=\"24px\"viewBox=\"0 0 24 24\"\n",
              "       width=\"24px\">\n",
              "    <path d=\"M0 0h24v24H0V0z\" fill=\"none\"/>\n",
              "    <path d=\"M18.56 5.44l.94 2.06.94-2.06 2.06-.94-2.06-.94-.94-2.06-.94 2.06-2.06.94zm-11 1L8.5 8.5l.94-2.06 2.06-.94-2.06-.94L8.5 2.5l-.94 2.06-2.06.94zm10 10l.94 2.06.94-2.06 2.06-.94-2.06-.94-.94-2.06-.94 2.06-2.06.94z\"/><path d=\"M17.41 7.96l-1.37-1.37c-.4-.4-.92-.59-1.43-.59-.52 0-1.04.2-1.43.59L10.3 9.45l-7.72 7.72c-.78.78-.78 2.05 0 2.83L4 21.41c.39.39.9.59 1.41.59.51 0 1.02-.2 1.41-.59l7.78-7.78 2.81-2.81c.8-.78.8-2.07 0-2.86zM5.41 20L4 18.59l7.72-7.72 1.47 1.35L5.41 20z\"/>\n",
              "  </svg>\n",
              "      </button>\n",
              "      \n",
              "  <style>\n",
              "    .colab-df-container {\n",
              "      display:flex;\n",
              "      flex-wrap:wrap;\n",
              "      gap: 12px;\n",
              "    }\n",
              "\n",
              "    .colab-df-convert {\n",
              "      background-color: #E8F0FE;\n",
              "      border: none;\n",
              "      border-radius: 50%;\n",
              "      cursor: pointer;\n",
              "      display: none;\n",
              "      fill: #1967D2;\n",
              "      height: 32px;\n",
              "      padding: 0 0 0 0;\n",
              "      width: 32px;\n",
              "    }\n",
              "\n",
              "    .colab-df-convert:hover {\n",
              "      background-color: #E2EBFA;\n",
              "      box-shadow: 0px 1px 2px rgba(60, 64, 67, 0.3), 0px 1px 3px 1px rgba(60, 64, 67, 0.15);\n",
              "      fill: #174EA6;\n",
              "    }\n",
              "\n",
              "    [theme=dark] .colab-df-convert {\n",
              "      background-color: #3B4455;\n",
              "      fill: #D2E3FC;\n",
              "    }\n",
              "\n",
              "    [theme=dark] .colab-df-convert:hover {\n",
              "      background-color: #434B5C;\n",
              "      box-shadow: 0px 1px 3px 1px rgba(0, 0, 0, 0.15);\n",
              "      filter: drop-shadow(0px 1px 2px rgba(0, 0, 0, 0.3));\n",
              "      fill: #FFFFFF;\n",
              "    }\n",
              "  </style>\n",
              "\n",
              "      <script>\n",
              "        const buttonEl =\n",
              "          document.querySelector('#df-89d517fd-ac49-45c3-8210-888122f10b9f button.colab-df-convert');\n",
              "        buttonEl.style.display =\n",
              "          google.colab.kernel.accessAllowed ? 'block' : 'none';\n",
              "\n",
              "        async function convertToInteractive(key) {\n",
              "          const element = document.querySelector('#df-89d517fd-ac49-45c3-8210-888122f10b9f');\n",
              "          const dataTable =\n",
              "            await google.colab.kernel.invokeFunction('convertToInteractive',\n",
              "                                                     [key], {});\n",
              "          if (!dataTable) return;\n",
              "\n",
              "          const docLinkHtml = 'Like what you see? Visit the ' +\n",
              "            '<a target=\"_blank\" href=https://colab.research.google.com/notebooks/data_table.ipynb>data table notebook</a>'\n",
              "            + ' to learn more about interactive tables.';\n",
              "          element.innerHTML = '';\n",
              "          dataTable['output_type'] = 'display_data';\n",
              "          await google.colab.output.renderOutput(dataTable, element);\n",
              "          const docLink = document.createElement('div');\n",
              "          docLink.innerHTML = docLinkHtml;\n",
              "          element.appendChild(docLink);\n",
              "        }\n",
              "      </script>\n",
              "    </div>\n",
              "  </div>\n",
              "  "
            ]
          },
          "metadata": {},
          "execution_count": 6
        }
      ]
    },
    {
      "cell_type": "code",
      "source": [
        "from sklearn.preprocessing import LabelEncoder\n",
        "le = LabelEncoder()\n",
        "movies_df['genres'] = le.fit_transform(movies_df['genres'])\n"
      ],
      "metadata": {
        "id": "G1iE843KE6pT"
      },
      "execution_count": 7,
      "outputs": []
    },
    {
      "cell_type": "code",
      "source": [
        "merged_df = pd.merge(ratings_df, movies_df, on='movieId')\n"
      ],
      "metadata": {
        "id": "rvYLZ32ZE9ga"
      },
      "execution_count": 8,
      "outputs": []
    },
    {
      "cell_type": "code",
      "source": [
        "sns.histplot(merged_df['rating'], bins=10)\n",
        "plt.show()\n"
      ],
      "metadata": {
        "colab": {
          "base_uri": "https://localhost:8080/",
          "height": 449
        },
        "id": "zla0m5GUFACP",
        "outputId": "3842cf0b-d333-4a2a-9da5-eb9c1fadd1a1"
      },
      "execution_count": 9,
      "outputs": [
        {
          "output_type": "display_data",
          "data": {
            "text/plain": [
              "<Figure size 640x480 with 1 Axes>"
            ],
            "image/png": "[encoded data removed]"
          },
          "metadata": {}
        }
      ]
    },
    {
      "cell_type": "code",
      "source": [
        "corr = merged_df.corr()\n",
        "sns.heatmap(corr, annot=True, cmap='coolwarm')\n",
        "plt.show()\n"
      ],
      "metadata": {
        "colab": {
          "base_uri": "https://localhost:8080/",
          "height": 435
        },
        "id": "NpeebrjbFDM-",
        "outputId": "e71e1d31-4d37-44a7-8c7f-b8fe4e24b9a0"
      },
      "execution_count": 10,
      "outputs": [
        {
          "output_type": "display_data",
          "data": {
            "text/plain": [
              "<Figure size 640x480 with 2 Axes>"
            ],
            "image/png": "[encoded data removed]"
          },
          "metadata": {}
        }
      ]
    },
    {
      "cell_type": "code",
      "source": [
        "!pip install surprise"
      ],
      "metadata": {
        "colab": {
          "base_uri": "https://localhost:8080/"
        },
        "id": "R_B84SCLFJLk",
        "outputId": "10010e79-b806-4414-9158-42c17510a6b5"
      },
      "execution_count": 12,
      "outputs": [
        {
          "output_type": "stream",
          "name": "stdout",
          "text": [
            "Looking in indexes: https://pypi.org/simple, https://us-python.pkg.dev/colab-wheels/public/simple/\n",
            "Collecting surprise\n",
            "  Downloading surprise-0.1-py2.py3-none-any.whl (1.8 kB)\n",
            "Collecting scikit-surprise\n",
            "  Downloading scikit-surprise-1.1.3.tar.gz (771 kB)\n",
            "\u001b[2K     \u001b[90m━━━━━━━━━━━━━━━━━━━━━━━━━━━━━━━━━━━━━━\u001b[0m \u001b[32m772.0/772.0 KB\u001b[0m \u001b[31m18.9 MB/s\u001b[0m eta \u001b[36m0:00:00\u001b[0m\n",
            "\u001b[?25h  Preparing metadata (setup.py) ... \u001b[?25l\u001b[?25hdone\n",
            "Requirement already satisfied: joblib>=1.0.0 in /usr/local/lib/python3.9/dist-packages (from scikit-surprise->surprise) (1.1.1)\n",
            "Requirement already satisfied: numpy>=1.17.3 in /usr/local/lib/python3.9/dist-packages (from scikit-surprise->surprise) (1.22.4)\n",
            "Requirement already satisfied: scipy>=1.3.2 in /usr/local/lib/python3.9/dist-packages (from scikit-surprise->surprise) (1.10.1)\n",
            "Building wheels for collected packages: scikit-surprise\n",
            "  Building wheel for scikit-surprise (setup.py) ... \u001b[?25l\u001b[?25hdone\n",
            "  Created wheel for scikit-surprise: filename=scikit_surprise-1.1.3-cp39-cp39-linux_x86_64.whl size=3193691 sha256=75c8b5224c4f2056c2a0d1cbae722a463c2f170a2ecd68a7132a1b85154d33e6\n",
            "  Stored in directory: /root/.cache/pip/wheels/c6/3a/46/9b17b3512bdf283c6cb84f59929cdd5199d4e754d596d22784\n",
            "Successfully built scikit-surprise\n",
            "Installing collected packages: scikit-surprise, surprise\n",
            "Successfully installed scikit-surprise-1.1.3 surprise-0.1\n"
          ]
        }
      ]
    },
    {
      "cell_type": "code",
      "source": [
        "from surprise import SVD\n",
        "algo = SVD()\n"
      ],
      "metadata": {
        "id": "RUYajOAJFHie"
      },
      "execution_count": 13,
      "outputs": []
    },
    {
      "cell_type": "code",
      "source": [
        "from surprise.model_selection import train_test_split"
      ],
      "metadata": {
        "id": "QRizJjaBFg6W"
      },
      "execution_count": 16,
      "outputs": []
    },
    {
      "cell_type": "code",
      "source": [
        "from surprise import Reader, Dataset\n",
        "reader = Reader()\n",
        "data = Dataset.load_from_df(merged_df[['userId', 'movieId', 'rating']], reader)\n",
        "trainset, testset = train_test_split(data, test_size=.25)\n"
      ],
      "metadata": {
        "id": "gllvxFQDFclj"
      },
      "execution_count": 17,
      "outputs": []
    },
    {
      "cell_type": "code",
      "source": [
        "algo.fit(trainset)\n"
      ],
      "metadata": {
        "colab": {
          "base_uri": "https://localhost:8080/"
        },
        "id": "lau1GkV1Fy3l",
        "outputId": "c7feddd3-3f3f-4580-c00f-9cfce88c5faa"
      },
      "execution_count": 18,
      "outputs": [
        {
          "output_type": "execute_result",
          "data": {
            "text/plain": [
              "<surprise.prediction_algorithms.matrix_factorization.SVD at 0x7fae5d6c7e20>"
            ]
          },
          "metadata": {},
          "execution_count": 18
        }
      ]
    },
    {
      "cell_type": "code",
      "source": [
        "predictions = algo.test(testset)"
      ],
      "metadata": {
        "id": "Qk68f6HqF94R"
      },
      "execution_count": 19,
      "outputs": []
    },
    {
      "cell_type": "code",
      "source": [
        "from surprise import accuracy"
      ],
      "metadata": {
        "id": "9MfV7E3XGGgI"
      },
      "execution_count": 21,
      "outputs": []
    },
    {
      "cell_type": "code",
      "source": [
        "accuracy.rmse(predictions)"
      ],
      "metadata": {
        "colab": {
          "base_uri": "https://localhost:8080/"
        },
        "id": "l3CBYkBKF_7g",
        "outputId": "667222aa-78c3-4fde-d5c3-bc3f509a4709"
      },
      "execution_count": 22,
      "outputs": [
        {
          "output_type": "stream",
          "name": "stdout",
          "text": [
            "RMSE: 0.8968\n"
          ]
        },
        {
          "output_type": "execute_result",
          "data": {
            "text/plain": [
              "0.8968287380549623"
            ]
          },
          "metadata": {},
          "execution_count": 22
        }
      ]
    },
    {
      "cell_type": "code",
      "source": [
        "from collections import defaultdict"
      ],
      "metadata": {
        "id": "CuIqdEe-GNH6"
      },
      "execution_count": 25,
      "outputs": []
    },
    {
      "cell_type": "code",
      "source": [
        "top_n = defaultdict(list)\n",
        "for uid, iid, true_r, est, _ in predictions:\n",
        "    top_n[uid].append((iid, est))\n",
        "for uid, user_ratings in top_n.items():\n",
        "    user_ratings.sort(key=lambda x: x[1], reverse=True)\n",
        "    top_n[uid] = user_ratings[:10]"
      ],
      "metadata": {
        "id": "QqxEHU0PGLf1"
      },
      "execution_count": 26,
      "outputs": []
    },
    {
      "cell_type": "code",
      "source": [
        "user_id = 2\n",
        "print(f\"Top 10 recommended movies for user {user_id}:\")\n",
        "for movie_id, rating in top_n[user_id]:\n",
        "    movie_title = movies_df[movies_df['movieId'] == int(movie_id)]['title'].values[0]\n",
        "    print(f\"Movie title: {movie_title}, Predicted rating: {rating:.2f}\")"
      ],
      "metadata": {
        "colab": {
          "base_uri": "https://localhost:8080/"
        },
        "id": "lv_pbeKzGaPR",
        "outputId": "4b2cab12-1c9b-479b-ec0f-7fb69d6c4f5d"
      },
      "execution_count": 29,
      "outputs": [
        {
          "output_type": "stream",
          "name": "stdout",
          "text": [
            "Top 10 recommended movies for user 2:\n",
            "Movie title: Dark Knight, The (2008), Predicted rating: 4.45\n",
            "Movie title: Good Will Hunting (1997), Predicted rating: 4.28\n",
            "Movie title: Django Unchained (2012), Predicted rating: 4.04\n",
            "Movie title: Exit Through the Gift Shop (2010), Predicted rating: 3.91\n",
            "Movie title: Wolf of Wall Street, The (2013), Predicted rating: 3.90\n",
            "Movie title: Mad Max: Fury Road (2015), Predicted rating: 3.80\n",
            "Movie title: The Drop (2014), Predicted rating: 3.72\n",
            "Movie title: Ex Machina (2015), Predicted rating: 3.69\n",
            "Movie title: Girl with the Dragon Tattoo, The (2011), Predicted rating: 3.59\n"
          ]
        }
      ]
    },
    {
      "cell_type": "code",
      "source": [
        "import matplotlib.pyplot as plt\n",
        "\n",
        "# # Loop through users 1-10\n",
        "# for user_id in range(1, 11):\n",
        "#     # Get the top 5 movie recommendations for the user\n",
        "#     top_movies = [movies_df[movies_df['movieId'] == int(movie_id)]['title'].values[0] \n",
        "#                   for movie_id, rating in top_n[user_id][:5]]\n",
        "    \n",
        "#     # # Plot the recommendations on a bar chart\n",
        "#     # plt.figure(figsize=(8, 5))\n",
        "#     # plt.bar(top_movies, [rating for movie_id, rating in top_n[user_id][:5]])\n",
        "#     # plt.xlabel(\"Movie Title\")\n",
        "#     # plt.ylabel(\"Predicted Rating\")\n",
        "#     # plt.ylim(0, 5)\n",
        "#     # plt.title(f\"Top 5 recommended movies for user {user_id}\")\n",
        "#     # plt.xticks(rotation=90)\n",
        "#     # plt.show()\n",
        "\n",
        "#     # Print the recommendations in a table\n",
        "#     print(f\"Top 5 recommended movies for user {user_id}:\")\n",
        "#     print(\"{:<50} {:<10}\".format(\"Movie Title\", \"Predicted Rating\"))\n",
        "#     print(\"-\" * 60)\n",
        "#     for movie, rating in top_movies:\n",
        "#         print(\"{:<50} {:<10.2f}\".format(movie, rating))\n",
        "#     print(\"\\n\")\n",
        "\n",
        "\n",
        "for user_id in range(1, 11):\n",
        "    \n",
        "    top_movies = []\n",
        "    for movie_id, rating in top_n[user_id][:5]:\n",
        "        movie_title = movies_df[movies_df['movieId'] == int(movie_id)]['title'].values\n",
        "        if len(movie_title) == 0:\n",
        "            top_movies.append((f\"Unknown movie (ID: {movie_id})\", rating))\n",
        "        else:\n",
        "            top_movies.append((movie_title[0], rating))\n",
        "    \n",
        "    # Print the recommendations in a table\n",
        "    print(f\"Top 5 recommended movies for user {user_id}:\")\n",
        "    print(\"{:<50} {:<10}\".format(\"Movie Title\", \"Predicted Rating\"))\n",
        "    print(\"-\" * 60)\n",
        "    for movie, rating in top_movies:\n",
        "        print(\"{:<50} {:<10.2f}\".format(movie, rating))\n",
        "    print(\"\\n\")\n",
        "\n"
      ],
      "metadata": {
        "colab": {
          "base_uri": "https://localhost:8080/"
        },
        "id": "6878hHDpHJQL",
        "outputId": "e2e5c55d-9290-48e5-cc30-21cd51ea6804"
      },
      "execution_count": 32,
      "outputs": [
        {
          "output_type": "stream",
          "name": "stdout",
          "text": [
            "Top 5 recommended movies for user 1:\n",
            "Movie Title                                        Predicted Rating\n",
            "------------------------------------------------------------\n",
            "Heat (1995)                                        4.81      \n",
            "Silence of the Lambs, The (1991)                   4.70      \n",
            "Pink Floyd: The Wall (1982)                        4.70      \n",
            "Back to the Future (1985)                          4.64      \n",
            "Blues Brothers, The (1980)                         4.64      \n",
            "\n",
            "\n",
            "Top 5 recommended movies for user 2:\n",
            "Movie Title                                        Predicted Rating\n",
            "------------------------------------------------------------\n",
            "Dark Knight, The (2008)                            4.45      \n",
            "Good Will Hunting (1997)                           4.28      \n",
            "Django Unchained (2012)                            4.04      \n",
            "Exit Through the Gift Shop (2010)                  3.91      \n",
            "Wolf of Wall Street, The (2013)                    3.90      \n",
            "\n",
            "\n",
            "Top 5 recommended movies for user 3:\n",
            "Movie Title                                        Predicted Rating\n",
            "------------------------------------------------------------\n",
            "Deer Hunter, The (1978)                            3.11      \n",
            "Wallace & Gromit: The Best of Aardman Animation (1996) 3.03      \n",
            "Thing, The (1982)                                  2.78      \n",
            "Courage Under Fire (1996)                          2.68      \n",
            "Hangar 18 (1980)                                   2.51      \n",
            "\n",
            "\n",
            "Top 5 recommended movies for user 4:\n",
            "Movie Title                                        Predicted Rating\n",
            "------------------------------------------------------------\n",
            "Tombstone (1993)                                   4.28      \n",
            "Goodfellas (1990)                                  4.01      \n",
            "Billy Elliot (2000)                                3.99      \n",
            "Commitments, The (1991)                            3.98      \n",
            "Run Lola Run (Lola rennt) (1998)                   3.98      \n",
            "\n",
            "\n",
            "Top 5 recommended movies for user 5:\n",
            "Movie Title                                        Predicted Rating\n",
            "------------------------------------------------------------\n",
            "Terminator 2: Judgment Day (1991)                  4.12      \n",
            "Fugitive, The (1993)                               3.96      \n",
            "Eat Drink Man Woman (Yin shi nan nu) (1994)        3.82      \n",
            "Pulp Fiction (1994)                                3.80      \n",
            "Shadowlands (1993)                                 3.62      \n",
            "\n",
            "\n",
            "Top 5 recommended movies for user 6:\n",
            "Movie Title                                        Predicted Rating\n",
            "------------------------------------------------------------\n",
            "Fargo (1996)                                       4.53      \n",
            "Pretty Woman (1990)                                3.99      \n",
            "Apollo 13 (1995)                                   3.95      \n",
            "Nobody's Fool (1994)                               3.94      \n",
            "Pulp Fiction (1994)                                3.83      \n",
            "\n",
            "\n",
            "Top 5 recommended movies for user 7:\n",
            "Movie Title                                        Predicted Rating\n",
            "------------------------------------------------------------\n",
            "Catch Me If You Can (2002)                         3.77      \n",
            "Dr. Strangelove or: How I Learned to Stop Worrying and Love the Bomb (1964) 3.76      \n",
            "Toy Story (1995)                                   3.75      \n",
            "Incredibles, The (2004)                            3.71      \n",
            "Star Wars: Episode V - The Empire Strikes Back (1980) 3.69      \n",
            "\n",
            "\n",
            "Top 5 recommended movies for user 8:\n",
            "Movie Title                                        Predicted Rating\n",
            "------------------------------------------------------------\n",
            "Schindler's List (1993)                            4.14      \n",
            "Usual Suspects, The (1995)                         4.05      \n",
            "Pulp Fiction (1994)                                3.97      \n",
            "American President, The (1995)                     3.82      \n",
            "French Kiss (1995)                                 3.46      \n",
            "\n",
            "\n",
            "Top 5 recommended movies for user 9:\n",
            "Movie Title                                        Predicted Rating\n",
            "------------------------------------------------------------\n",
            "Lord of the Rings: The Fellowship of the Ring, The (2001) 3.64      \n",
            "Back to the Future (1985)                          3.55      \n",
            "Citizen Kane (1941)                                3.48      \n",
            "Lord of the Rings: The Two Towers, The (2002)      3.34      \n",
            "Clerks (1994)                                      3.32      \n",
            "\n",
            "\n",
            "Top 5 recommended movies for user 10:\n",
            "Movie Title                                        Predicted Rating\n",
            "------------------------------------------------------------\n",
            "Shrek (2001)                                       4.19      \n",
            "Gladiator (2000)                                   4.07      \n",
            "Sixth Sense, The (1999)                            3.89      \n",
            "Lord of the Rings: The Return of the King, The (2003) 3.89      \n",
            "Forrest Gump (1994)                                3.86      \n",
            "\n",
            "\n"
          ]
        }
      ]
    },
    {
      "cell_type": "code",
      "source": [
        "from surprise import KNNWithMeans\n",
        "from surprise import Dataset\n",
        "from surprise import accuracy\n",
        "from surprise.model_selection import train_test_split"
      ],
      "metadata": {
        "id": "sD1pkMdYH-WD"
      },
      "execution_count": 33,
      "outputs": []
    },
    {
      "cell_type": "code",
      "source": [
        "reader = Reader()\n",
        "data = Dataset.load_from_df(ratings_df[['userId', 'movieId', 'rating']], reader)"
      ],
      "metadata": {
        "id": "iZe6vSY0IAGr"
      },
      "execution_count": 48,
      "outputs": []
    },
    {
      "cell_type": "code",
      "source": [
        "trainset, testset = train_test_split(data, test_size=.25)"
      ],
      "metadata": {
        "id": "4QPEwBEYIGeq"
      },
      "execution_count": 36,
      "outputs": []
    },
    {
      "cell_type": "code",
      "source": [
        "sim_options = {'name': 'pearson'}\n",
        "algo = KNNWithMeans(k=50, sim_options=sim_options)\n",
        "algo.fit(trainset)"
      ],
      "metadata": {
        "colab": {
          "base_uri": "https://localhost:8080/"
        },
        "id": "N5OOnNX3IIQL",
        "outputId": "6674aed6-b142-4961-cd26-da7a435c97ab"
      },
      "execution_count": 37,
      "outputs": [
        {
          "output_type": "stream",
          "name": "stdout",
          "text": [
            "Computing the pearson similarity matrix...\n",
            "Done computing similarity matrix.\n"
          ]
        },
        {
          "output_type": "execute_result",
          "data": {
            "text/plain": [
              "<surprise.prediction_algorithms.knns.KNNWithMeans at 0x7fae5bc0da00>"
            ]
          },
          "metadata": {},
          "execution_count": 37
        }
      ]
    },
    {
      "cell_type": "code",
      "source": [
        "sim_matrix = algo.compute_similarities()\n"
      ],
      "metadata": {
        "colab": {
          "base_uri": "https://localhost:8080/"
        },
        "id": "IR1S5Te-IKwr",
        "outputId": "ffcff3e9-3917-4d84-ebad-962a1e418712"
      },
      "execution_count": 38,
      "outputs": [
        {
          "output_type": "stream",
          "name": "stdout",
          "text": [
            "Computing the pearson similarity matrix...\n",
            "Done computing similarity matrix.\n"
          ]
        }
      ]
    },
    {
      "cell_type": "code",
      "source": [
        "user_id = 1\n",
        "user_index = trainset.to_inner_uid(user_id)\n",
        "user_sim_scores = sim_matrix[user_index]"
      ],
      "metadata": {
        "id": "4SevvWAhIOZp"
      },
      "execution_count": 39,
      "outputs": []
    },
    {
      "cell_type": "code",
      "source": [
        "top_sim_user_indices = user_sim_scores.argsort()[::-1][1:11]\n",
        "\n",
        "# Convert the indices back to user IDs\n",
        "top_sim_user_ids = [trainset.to_raw_uid(sim_user_index) for sim_user_index in top_sim_user_indices]"
      ],
      "metadata": {
        "id": "lmUy5pwTIQ3H"
      },
      "execution_count": 40,
      "outputs": []
    },
    {
      "cell_type": "code",
      "source": [
        "print(f\"Top 10 users most similar to user {user_id}: {top_sim_user_ids}\")"
      ],
      "metadata": {
        "colab": {
          "base_uri": "https://localhost:8080/"
        },
        "id": "6mZlF959ISvh",
        "outputId": "e1409e63-19c4-4777-d114-0a43e69335fd"
      },
      "execution_count": 41,
      "outputs": [
        {
          "output_type": "stream",
          "name": "stdout",
          "text": [
            "Top 10 users most similar to user 1: [106, 49, 146, 218, 1, 13, 99, 196, 206, 208]\n"
          ]
        }
      ]
    },
    {
      "cell_type": "code",
      "source": [
        "print(ratings_df.columns)\n"
      ],
      "metadata": {
        "colab": {
          "base_uri": "https://localhost:8080/"
        },
        "id": "TMv9fy4wItl5",
        "outputId": "b610927d-cf4a-4bf2-d736-3684ca7e58a3"
      },
      "execution_count": 46,
      "outputs": [
        {
          "output_type": "stream",
          "name": "stdout",
          "text": [
            "Index(['userId', 'movieId', 'rating', 'timestamp'], dtype='object')\n"
          ]
        }
      ]
    },
    {
      "cell_type": "code",
      "source": [
        "merged_df = pd.merge(ratings_df, movies_df, on='movieId')\n",
        "user_id = 1\n",
        "user_ratings = merged_df[merged_df['userId'] == user_id]\n",
        "genre_ratings = user_ratings.groupby('genres')['rating'].mean()\n",
        "\n",
        "# Print the user's average ratings for each genre\n",
        "print(genre_ratings)\n"
      ],
      "metadata": {
        "colab": {
          "base_uri": "https://localhost:8080/"
        },
        "id": "mk-E-T00IV5S",
        "outputId": "5a82845d-3778-4d04-91a1-1b1e0c779702"
      },
      "execution_count": 49,
      "outputs": [
        {
          "output_type": "stream",
          "name": "stdout",
          "text": [
            "genres\n",
            "2      5.0\n",
            "35     4.5\n",
            "42     3.0\n",
            "46     5.0\n",
            "62     4.0\n",
            "      ... \n",
            "910    4.0\n",
            "915    2.5\n",
            "919    4.0\n",
            "937    5.0\n",
            "948    5.0\n",
            "Name: rating, Length: 121, dtype: float64\n"
          ]
        }
      ]
    },
    {
      "cell_type": "code",
      "source": [
        "num_users = ratings_df['userId'].nunique()\n",
        "print(num_users)"
      ],
      "metadata": {
        "colab": {
          "base_uri": "https://localhost:8080/"
        },
        "id": "nttwxfAFJQSc",
        "outputId": "4a214730-3561-44df-9780-fbcd10abd384"
      },
      "execution_count": 50,
      "outputs": [
        {
          "output_type": "stream",
          "name": "stdout",
          "text": [
            "288\n"
          ]
        }
      ]
    },
    {
      "cell_type": "code",
      "source": [
        "movies_df['genres'] = movies_df['genres'].astype(str)\n"
      ],
      "metadata": {
        "id": "wZ3OD3yTJvXb"
      },
      "execution_count": 52,
      "outputs": []
    },
    {
      "cell_type": "code",
      "source": [
        "import matplotlib.pyplot as plt\n",
        "\n",
        "# Count of users who prefer each genre\n",
        "genre_counts = movies_df['genres'].str.split('|', expand=True).stack().reset_index(drop=True).value_counts()\n",
        "\n",
        "# Plotting the bar graph\n",
        "plt.bar(genre_counts.index, genre_counts.values)\n",
        "plt.xticks(rotation=90)\n",
        "plt.xlabel('Genres')\n",
        "plt.ylabel('Number of Users')\n",
        "plt.title('Number of Users who prefer each Genre')\n",
        "plt.show()\n"
      ],
      "metadata": {
        "colab": {
          "base_uri": "https://localhost:8080/",
          "height": 484
        },
        "id": "BA2JaDJZJnJr",
        "outputId": "118e0a4f-af56-49de-a0c8-00f75d819681"
      },
      "execution_count": 53,
      "outputs": [
        {
          "output_type": "display_data",
          "data": {
            "text/plain": [
              "<Figure size 640x480 with 1 Axes>"
            ],
            "image/png": "[encoded data removed]"
          },
          "metadata": {}
        }
      ]
    },
    {
      "cell_type": "code",
      "source": [
        "import matplotlib.pyplot as plt\n",
        "\n",
        "# Count of users who prefer each genre\n",
        "\n",
        "# Top 10 most popular genres\n",
        "top_genres = genre_counts[:10]\n",
        "\n",
        "# Plotting the pie chart\n",
        "plt.pie(top_genres.values, labels=top_genres.index, autopct='%1.1f%%')\n",
        "plt.title('Top 10 Most Popular Genres')\n",
        "plt.show()\n"
      ],
      "metadata": {
        "colab": {
          "base_uri": "https://localhost:8080/",
          "height": 428
        },
        "id": "jklODRV1J8PX",
        "outputId": "50896ca5-117f-4925-dc6c-c7cda8bff2fa"
      },
      "execution_count": 54,
      "outputs": [
        {
          "output_type": "display_data",
          "data": {
            "text/plain": [
              "<Figure size 640x480 with 1 Axes>"
            ],
            "image/png": "[encoded data removed]"
          },
          "metadata": {}
        }
      ]
    },
    {
      "cell_type": "code",
      "source": [
        "print(top_genres[:10])"
      ],
      "metadata": {
        "colab": {
          "base_uri": "https://localhost:8080/"
        },
        "id": "qdamvfAWKSLE",
        "outputId": "86faaad9-9473-461b-e253-aa5fcb7a2d01"
      },
      "execution_count": 56,
      "outputs": [
        {
          "output_type": "stream",
          "name": "stdout",
          "text": [
            "812    1053\n",
            "634     946\n",
            "670     435\n",
            "732     363\n",
            "868     349\n",
            "799     339\n",
            "687     276\n",
            "881     168\n",
            "910     167\n",
            "922     135\n",
            "dtype: int64\n"
          ]
        }
      ]
    },
    {
      "cell_type": "code",
      "source": [
        "import matplotlib.pyplot as plt\n",
        "\n",
        "# Count of users who prefer each genre\n",
        "genre_counts = movies_df['genres'].str.split('|', expand=True).stack().reset_index(drop=True).value_counts()\n",
        "\n",
        "# Plotting the pie chart\n",
        "plt.figure(figsize=(8,8))\n",
        "plt.pie(genre_counts.head(10), labels=genre_counts.head(10).index, autopct='%1.1f%%')\n",
        "plt.title('Top 10 Most Popular Genres')\n",
        "plt.show()\n"
      ],
      "metadata": {
        "colab": {
          "base_uri": "https://localhost:8080/",
          "height": 675
        },
        "id": "esIdaaSgKhqH",
        "outputId": "1cb2d41a-1112-4099-8d05-d586380bd502"
      },
      "execution_count": 57,
      "outputs": [
        {
          "output_type": "display_data",
          "data": {
            "text/plain": [
              "<Figure size 800x800 with 1 Axes>"
            ],
            "image/png": "[encoded data removed]"
          },
          "metadata": {}
        }
      ]
    },
    {
      "cell_type": "code",
      "source": [
        "from surprise import Dataset, Reader\n",
        "from surprise import KNNBasic\n",
        "from surprise.model_selection import cross_validate\n"
      ],
      "metadata": {
        "id": "P45FOdWwLESX"
      },
      "execution_count": 58,
      "outputs": []
    },
    {
      "cell_type": "code",
      "source": [
        "reader = Reader(rating_scale=(1, 5))\n",
        "data = Dataset.load_from_df(ratings_df[['userId', 'movieId', 'rating']], reader)\n"
      ],
      "metadata": {
        "id": "aAkeVGeDLGQH"
      },
      "execution_count": 59,
      "outputs": []
    },
    {
      "cell_type": "code",
      "source": [
        "sim_options = {'name': 'cosine',\n",
        "               'user_based': True}\n"
      ],
      "metadata": {
        "id": "NXrRbci5LIqw"
      },
      "execution_count": 60,
      "outputs": []
    },
    {
      "cell_type": "code",
      "source": [
        "model = KNNBasic(sim_options=sim_options)\n",
        "model.fit(data.build_full_trainset())\n"
      ],
      "metadata": {
        "colab": {
          "base_uri": "https://localhost:8080/"
        },
        "id": "PE_cJmINLLh3",
        "outputId": "6664deca-0250-4aca-d782-4f6c65c6d273"
      },
      "execution_count": 61,
      "outputs": [
        {
          "output_type": "stream",
          "name": "stdout",
          "text": [
            "Computing the cosine similarity matrix...\n",
            "Done computing similarity matrix.\n"
          ]
        },
        {
          "output_type": "execute_result",
          "data": {
            "text/plain": [
              "<surprise.prediction_algorithms.knns.KNNBasic at 0x7fae59e23190>"
            ]
          },
          "metadata": {},
          "execution_count": 61
        }
      ]
    },
    {
      "cell_type": "code",
      "source": [
        "user_id = 1\n",
        "movie_id = 1\n",
        "pred = model.predict(user_id, movie_id)\n",
        "print(pred.est)\n"
      ],
      "metadata": {
        "colab": {
          "base_uri": "https://localhost:8080/"
        },
        "id": "oDxZfalmLNmj",
        "outputId": "bef0604a-0600-48e5-adb3-831d86911c70"
      },
      "execution_count": 62,
      "outputs": [
        {
          "output_type": "stream",
          "name": "stdout",
          "text": [
            "3.9499661715332897\n"
          ]
        }
      ]
    },
    {
      "cell_type": "code",
      "source": [
        "# Step 1: Find the user's average rating for each genre\n",
        "user_id = 1\n",
        "user_ratings = ratings_df[ratings_df['userId'] == user_id]\n",
        "genre_ratings = user_ratings.groupby('genres')['rating'].mean()\n",
        "\n",
        "# Step 2: Sort the genres based on the user's average ratings\n",
        "sorted_genres = genre_ratings.sort_values(ascending=False)\n",
        "\n",
        "# Step 3: Select the genre with the highest average rating as the user's preferred genre\n",
        "preferred_genre = sorted_genres.index[0]\n",
        "\n",
        "# Step 4: Recommend movies of the preferred genre to the user\n",
        "movies_df[movies_df['genres'].str.contains(preferred_genre)].head(10)\n"
      ],
      "metadata": {
        "colab": {
          "base_uri": "https://localhost:8080/",
          "height": 380
        },
        "id": "g2pwSagtLsgl",
        "outputId": "01d963d9-1ccd-4dd6-c5b3-b590163ce82c"
      },
      "execution_count": 63,
      "outputs": [
        {
          "output_type": "error",
          "ename": "KeyError",
          "evalue": "ignored",
          "traceback": [
            "\u001b[0;31m---------------------------------------------------------------------------\u001b[0m",
            "\u001b[0;31mKeyError\u001b[0m                                  Traceback (most recent call last)",
            "\u001b[0;32m<ipython-input-63-1edb1854db71>\u001b[0m in \u001b[0;36m<cell line: 4>\u001b[0;34m()\u001b[0m\n\u001b[1;32m      2\u001b[0m \u001b[0muser_id\u001b[0m \u001b[0;34m=\u001b[0m \u001b[0;36m1\u001b[0m\u001b[0;34m\u001b[0m\u001b[0;34m\u001b[0m\u001b[0m\n\u001b[1;32m      3\u001b[0m \u001b[0muser_ratings\u001b[0m \u001b[0;34m=\u001b[0m \u001b[0mratings_df\u001b[0m\u001b[0;34m[\u001b[0m\u001b[0mratings_df\u001b[0m\u001b[0;34m[\u001b[0m\u001b[0;34m'userId'\u001b[0m\u001b[0;34m]\u001b[0m \u001b[0;34m==\u001b[0m \u001b[0muser_id\u001b[0m\u001b[0;34m]\u001b[0m\u001b[0;34m\u001b[0m\u001b[0;34m\u001b[0m\u001b[0m\n\u001b[0;32m----> 4\u001b[0;31m \u001b[0mgenre_ratings\u001b[0m \u001b[0;34m=\u001b[0m \u001b[0muser_ratings\u001b[0m\u001b[0;34m.\u001b[0m\u001b[0mgroupby\u001b[0m\u001b[0;34m(\u001b[0m\u001b[0;34m'genres'\u001b[0m\u001b[0;34m)\u001b[0m\u001b[0;34m[\u001b[0m\u001b[0;34m'rating'\u001b[0m\u001b[0;34m]\u001b[0m\u001b[0;34m.\u001b[0m\u001b[0mmean\u001b[0m\u001b[0;34m(\u001b[0m\u001b[0;34m)\u001b[0m\u001b[0;34m\u001b[0m\u001b[0;34m\u001b[0m\u001b[0m\n\u001b[0m\u001b[1;32m      5\u001b[0m \u001b[0;34m\u001b[0m\u001b[0m\n\u001b[1;32m      6\u001b[0m \u001b[0;31m# Step 2: Sort the genres based on the user's average ratings\u001b[0m\u001b[0;34m\u001b[0m\u001b[0;34m\u001b[0m\u001b[0m\n",
            "\u001b[0;32m/usr/local/lib/python3.9/dist-packages/pandas/core/frame.py\u001b[0m in \u001b[0;36mgroupby\u001b[0;34m(self, by, axis, level, as_index, sort, group_keys, squeeze, observed, dropna)\u001b[0m\n\u001b[1;32m   7719\u001b[0m         \u001b[0;31m# error: Argument \"squeeze\" to \"DataFrameGroupBy\" has incompatible type\u001b[0m\u001b[0;34m\u001b[0m\u001b[0;34m\u001b[0m\u001b[0m\n\u001b[1;32m   7720\u001b[0m         \u001b[0;31m# \"Union[bool, NoDefault]\"; expected \"bool\"\u001b[0m\u001b[0;34m\u001b[0m\u001b[0;34m\u001b[0m\u001b[0m\n\u001b[0;32m-> 7721\u001b[0;31m         return DataFrameGroupBy(\n\u001b[0m\u001b[1;32m   7722\u001b[0m             \u001b[0mobj\u001b[0m\u001b[0;34m=\u001b[0m\u001b[0mself\u001b[0m\u001b[0;34m,\u001b[0m\u001b[0;34m\u001b[0m\u001b[0;34m\u001b[0m\u001b[0m\n\u001b[1;32m   7723\u001b[0m             \u001b[0mkeys\u001b[0m\u001b[0;34m=\u001b[0m\u001b[0mby\u001b[0m\u001b[0;34m,\u001b[0m\u001b[0;34m\u001b[0m\u001b[0;34m\u001b[0m\u001b[0m\n",
            "\u001b[0;32m/usr/local/lib/python3.9/dist-packages/pandas/core/groupby/groupby.py\u001b[0m in \u001b[0;36m__init__\u001b[0;34m(self, obj, keys, axis, level, grouper, exclusions, selection, as_index, sort, group_keys, squeeze, observed, mutated, dropna)\u001b[0m\n\u001b[1;32m    880\u001b[0m             \u001b[0;32mfrom\u001b[0m \u001b[0mpandas\u001b[0m\u001b[0;34m.\u001b[0m\u001b[0mcore\u001b[0m\u001b[0;34m.\u001b[0m\u001b[0mgroupby\u001b[0m\u001b[0;34m.\u001b[0m\u001b[0mgrouper\u001b[0m \u001b[0;32mimport\u001b[0m \u001b[0mget_grouper\u001b[0m\u001b[0;34m\u001b[0m\u001b[0;34m\u001b[0m\u001b[0m\n\u001b[1;32m    881\u001b[0m \u001b[0;34m\u001b[0m\u001b[0m\n\u001b[0;32m--> 882\u001b[0;31m             grouper, exclusions, obj = get_grouper(\n\u001b[0m\u001b[1;32m    883\u001b[0m                 \u001b[0mobj\u001b[0m\u001b[0;34m,\u001b[0m\u001b[0;34m\u001b[0m\u001b[0;34m\u001b[0m\u001b[0m\n\u001b[1;32m    884\u001b[0m                 \u001b[0mkeys\u001b[0m\u001b[0;34m,\u001b[0m\u001b[0;34m\u001b[0m\u001b[0;34m\u001b[0m\u001b[0m\n",
            "\u001b[0;32m/usr/local/lib/python3.9/dist-packages/pandas/core/groupby/grouper.py\u001b[0m in \u001b[0;36mget_grouper\u001b[0;34m(obj, key, axis, level, sort, observed, mutated, validate, dropna)\u001b[0m\n\u001b[1;32m    880\u001b[0m                 \u001b[0min_axis\u001b[0m\u001b[0;34m,\u001b[0m \u001b[0mlevel\u001b[0m\u001b[0;34m,\u001b[0m \u001b[0mgpr\u001b[0m \u001b[0;34m=\u001b[0m \u001b[0;32mFalse\u001b[0m\u001b[0;34m,\u001b[0m \u001b[0mgpr\u001b[0m\u001b[0;34m,\u001b[0m \u001b[0;32mNone\u001b[0m\u001b[0;34m\u001b[0m\u001b[0;34m\u001b[0m\u001b[0m\n\u001b[1;32m    881\u001b[0m             \u001b[0;32melse\u001b[0m\u001b[0;34m:\u001b[0m\u001b[0;34m\u001b[0m\u001b[0;34m\u001b[0m\u001b[0m\n\u001b[0;32m--> 882\u001b[0;31m                 \u001b[0;32mraise\u001b[0m \u001b[0mKeyError\u001b[0m\u001b[0;34m(\u001b[0m\u001b[0mgpr\u001b[0m\u001b[0;34m)\u001b[0m\u001b[0;34m\u001b[0m\u001b[0;34m\u001b[0m\u001b[0m\n\u001b[0m\u001b[1;32m    883\u001b[0m         \u001b[0;32melif\u001b[0m \u001b[0misinstance\u001b[0m\u001b[0;34m(\u001b[0m\u001b[0mgpr\u001b[0m\u001b[0;34m,\u001b[0m \u001b[0mGrouper\u001b[0m\u001b[0;34m)\u001b[0m \u001b[0;32mand\u001b[0m \u001b[0mgpr\u001b[0m\u001b[0;34m.\u001b[0m\u001b[0mkey\u001b[0m \u001b[0;32mis\u001b[0m \u001b[0;32mnot\u001b[0m \u001b[0;32mNone\u001b[0m\u001b[0;34m:\u001b[0m\u001b[0;34m\u001b[0m\u001b[0;34m\u001b[0m\u001b[0m\n\u001b[1;32m    884\u001b[0m             \u001b[0;31m# Add key to exclusions\u001b[0m\u001b[0;34m\u001b[0m\u001b[0;34m\u001b[0m\u001b[0m\n",
            "\u001b[0;31mKeyError\u001b[0m: 'genres'"
          ]
        }
      ]
    }
  ]
}